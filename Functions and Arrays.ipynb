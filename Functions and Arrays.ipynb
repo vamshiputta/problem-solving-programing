{
 "cells": [
  {
   "cell_type": "markdown",
   "metadata": {},
   "source": [
    "# Functions"
   ]
  },
  {
   "cell_type": "markdown",
   "metadata": {},
   "source": [
    "## Question 1\n",
    "### Description: To print natural nos."
   ]
  },
  {
   "cell_type": "code",
   "execution_count": 1,
   "metadata": {},
   "outputs": [
    {
     "name": "stdout",
     "output_type": "stream",
     "text": [
      "1  2  3  4  5  6  7  8  9  \n",
      "1  2  3  4  5  6  7  8  9  10  11  12  13  14  15  \n"
     ]
    }
   ],
   "source": [
    "def naturalno(n):\n",
    "    cnt=1;\n",
    "    while(cnt<=n):\n",
    "        print(cnt,end=\"  \");\n",
    "        cnt=cnt+1;\n",
    "    print()\n",
    "    return\n",
    "\n",
    "naturalno(9);\n",
    "naturalno(15);"
   ]
  },
  {
   "cell_type": "markdown",
   "metadata": {},
   "source": [
    "## Question 2\n",
    "### Description: To print the factorial of the given no."
   ]
  },
  {
   "cell_type": "code",
   "execution_count": 2,
   "metadata": {},
   "outputs": [
    {
     "name": "stdout",
     "output_type": "stream",
     "text": [
      "120\n",
      "24\n",
      "6\n"
     ]
    }
   ],
   "source": [
    "def fact(n):\n",
    "    fact=1;\n",
    "    while(n!=0):\n",
    "        fact=fact*n;\n",
    "        n=n-1;\n",
    "    return fact;\n",
    "\n",
    "print(fact(5));\n",
    "print(fact(4));\n",
    "print(fact(3));\n"
   ]
  },
  {
   "cell_type": "markdown",
   "metadata": {},
   "source": [
    "## Question 3\n",
    "### Description : To count the palindrome between 2 nos"
   ]
  },
  {
   "cell_type": "code",
   "execution_count": 4,
   "metadata": {},
   "outputs": [
    {
     "name": "stdout",
     "output_type": "stream",
     "text": [
      "2\n"
     ]
    }
   ],
   "source": [
    "def palindrome(n1,n2):\n",
    "    cnt=0;\n",
    "    while(n1!=n2):\n",
    "        sum=0;\n",
    "        buffer=n1;\n",
    "        while(n1!=0):\n",
    "            r=n1%10;\n",
    "            sum=(sum*10)+r;\n",
    "            n1=n1//10;\n",
    "        if(buffer==sum):\n",
    "            cnt=cnt+1;\n",
    "        n1=buffer;\n",
    "        n1=n1+1;\n",
    "    return cnt;\n",
    "print(palindrome(10,30));"
   ]
  },
  {
   "cell_type": "markdown",
   "metadata": {},
   "source": [
    "## Question 4\n",
    "### Description : Sum of even nos."
   ]
  },
  {
   "cell_type": "code",
   "execution_count": 7,
   "metadata": {},
   "outputs": [
    {
     "name": "stdout",
     "output_type": "stream",
     "text": [
      "20\n"
     ]
    }
   ],
   "source": [
    "def even(n):\n",
    "    cnt=0;\n",
    "    sum=0;\n",
    "    while(cnt!=n):\n",
    "        if(cnt%2==0):\n",
    "            sum=sum+cnt;\n",
    "        cnt=cnt+1;\n",
    "    return sum;\n",
    "    \n",
    "print(even(10));"
   ]
  },
  {
   "cell_type": "markdown",
   "metadata": {},
   "source": [
    "## Question 5\n",
    "### Description : To find the factorial of the given no."
   ]
  },
  {
   "cell_type": "code",
   "execution_count": 5,
   "metadata": {},
   "outputs": [
    {
     "name": "stdout",
     "output_type": "stream",
     "text": [
      "1  2  3  4  6  None\n"
     ]
    }
   ],
   "source": [
    "def factors(n):\n",
    "    i=1;\n",
    "    while(i!=n):\n",
    "        if(n%i==0):\n",
    "            print(i,end=\"  \");\n",
    "        i=i+1\n",
    "    return;\n",
    "\n",
    "print(factors(12));"
   ]
  },
  {
   "cell_type": "markdown",
   "metadata": {},
   "source": [
    "## Question 6\n",
    "### Description : Intro of List"
   ]
  },
  {
   "cell_type": "code",
   "execution_count": 8,
   "metadata": {},
   "outputs": [
    {
     "name": "stdout",
     "output_type": "stream",
     "text": [
      "[1, 2, 3, 4, 5]\n",
      "1\n"
     ]
    }
   ],
   "source": [
    "list1=[1,2,3,4,5];\n",
    "#Entire List \n",
    "print(list1);\n",
    "#List[0]\n",
    "print(list1[0]);"
   ]
  },
  {
   "cell_type": "markdown",
   "metadata": {},
   "source": [
    "## Question 7\n",
    "### Description : List using For."
   ]
  },
  {
   "cell_type": "code",
   "execution_count": 10,
   "metadata": {},
   "outputs": [
    {
     "name": "stdout",
     "output_type": "stream",
     "text": [
      "Akhil Aavind Anil Akash "
     ]
    }
   ],
   "source": [
    "list2=[\"Akhil\",\"Aavind\",\"Anil\",\"Akash\"];\n",
    "for x in list2:\n",
    "    print(x,end= \" \");"
   ]
  },
  {
   "cell_type": "markdown",
   "metadata": {},
   "source": [
    "## Question 8\n",
    "### Description: List with index and limit list"
   ]
  },
  {
   "cell_type": "code",
   "execution_count": 14,
   "metadata": {},
   "outputs": [
    {
     "name": "stdout",
     "output_type": "stream",
     "text": [
      "1 2 3 4 5 6 7 \n",
      "5\n",
      "[4, 5, 6]\n",
      "[1, 2, 3]\n",
      "[1, 2, 3]\n",
      "[1, 2, 3, 4, 5, 6, 7]\n"
     ]
    }
   ],
   "source": [
    "list1=[1,2,3,4,5,6,7];\n",
    "for x in list1:\n",
    "    print(x,end=\" \");\n",
    "    \n",
    "print();\n",
    "print(list1[4]);\n",
    "print(list1[3:6]);\n",
    "print(list1[0:3]);\n",
    "print(list1[:3]);\n",
    "print(list1[:7]);"
   ]
  },
  {
   "cell_type": "markdown",
   "metadata": {},
   "source": [
    "## Question 9\n",
    "### Description : List and elimination of nos"
   ]
  },
  {
   "cell_type": "code",
   "execution_count": 26,
   "metadata": {},
   "outputs": [
    {
     "name": "stdout",
     "output_type": "stream",
     "text": [
      "1  2  3  4  5  6  7  8  9  10  \n",
      "[2, 3, 4, 5, 6, 7, 8, 9]\n",
      "[3, 4, 5, 6, 7, 8]\n",
      "[1, 3, 5, 7, 9]\n",
      "[1, 4, 7, 10]\n",
      "[1, 5, 9]\n",
      "[10, 8, 6, 4, 2]\n",
      "[]\n",
      "9\n"
     ]
    }
   ],
   "source": [
    "list1=[1,2,3,4,5,6,7,8,9,10];\n",
    "for x in list1:\n",
    "    print(x,end=\"  \");\n",
    "    \n",
    "print();\n",
    "print(list1[1:-1]);\n",
    "print(list1[2:-2]);\n",
    "print(list1[::2]);\n",
    "print(list1[::3]);\n",
    "print(list1[::4]);\n",
    "print(list1[::-2]);\n",
    "print(list1[-1]);\n",
    "print(list1[-2]);"
   ]
  },
  {
   "cell_type": "markdown",
   "metadata": {},
   "source": [
    "## Question 10\n",
    "### Description: Replacement, Deletion & Concatination  of element  into List."
   ]
  },
  {
   "cell_type": "code",
   "execution_count": 24,
   "metadata": {},
   "outputs": [
    {
     "name": "stdout",
     "output_type": "stream",
     "text": [
      "['ashish', 'anil', 'akhil', 1]\n",
      "['ashish', 'anil', 15, 1]\n",
      "['ashish', 'anil', 15]\n",
      "['ashish', 'GITAM', 15]\n",
      "[1, 2, 3]\n",
      "['ashish', 'GITAM', 15, 1, 2, 3]\n",
      "[1, 2, 3, 'ashish', 'GITAM', 15]\n"
     ]
    }
   ],
   "source": [
    "list1=[\"ashish\",\"anil\",\"akhil\",1];\n",
    "print(list1);\n",
    "\n",
    "list1[2]=15;\n",
    "print(list1);\n",
    "\n",
    "del list1[3];\n",
    "print(list1);\n",
    "\n",
    "list1[1]=\"GITAM\";\n",
    "print(list1);\n",
    "\n",
    "list2=[1,2,3];\n",
    "\n",
    "print(list2);\n",
    "\n",
    "print(list1 + list2);\n",
    "\n",
    "print(list2 + list1);"
   ]
  },
  {
   "cell_type": "markdown",
   "metadata": {},
   "source": [
    "## Question 11\n",
    "### Description : To Append & Count the elements."
   ]
  },
  {
   "cell_type": "code",
   "execution_count": 31,
   "metadata": {},
   "outputs": [
    {
     "name": "stdout",
     "output_type": "stream",
     "text": [
      "[1, 2, 3, 4, 5]\n",
      "[1, 2, 4, 5]\n",
      "4\n",
      "[1, 2, 4, 5, 15, 150, 1, 3]\n",
      "2\n",
      "1\n"
     ]
    }
   ],
   "source": [
    "list1=[1,2,3,4,5];\n",
    "print(list1);\n",
    "del list1[2];\n",
    "print(list1);\n",
    "\n",
    "#list1[4]=5;\n",
    "print(len(list1));\n",
    "list1.append(15);\n",
    "list1.append(150);\n",
    "list1.append(1);\n",
    "list1.append(3);\n",
    "print(list1);\n",
    "print(list1.count(1));\n",
    "print(list1.count(3));"
   ]
  },
  {
   "cell_type": "markdown",
   "metadata": {},
   "source": [
    "## Question 12\n",
    "### Description : To find index and insert in the given position."
   ]
  },
  {
   "cell_type": "code",
   "execution_count": 46,
   "metadata": {},
   "outputs": [
    {
     "name": "stdout",
     "output_type": "stream",
     "text": [
      "['xyz', 'abc', 'pqr', 1, 5, 'xyz', 'xyz']\n",
      "0\n",
      "3\n",
      "7\n",
      "['xyz', 'abc', 2019, 'pqr', 1, 5, 'xyz', 'xyz']\n",
      "8\n",
      "['xyz', 'abc', 2019, 'pqr', 2020, 1, 5, 'xyz', 'xyz']\n"
     ]
    }
   ],
   "source": [
    "list1=[\"xyz\",\"abc\",\"pqr\",1,5,\"xyz\",\"xyz\"];\n",
    "print(list1);\n",
    "print(list1.index(\"xyz\"));\n",
    "print(list1.index(1));\n",
    "print(len(list1));\n",
    "list1.insert(2,2019);\n",
    "print(list1);\n",
    "print(len(list1));\n",
    "list1.insert(4,2020);\n",
    "print(list1);"
   ]
  },
  {
   "cell_type": "markdown",
   "metadata": {},
   "source": [
    "## Question 13\n",
    "### Description : Remove & Reverse function."
   ]
  },
  {
   "cell_type": "code",
   "execution_count": 44,
   "metadata": {},
   "outputs": [
    {
     "name": "stdout",
     "output_type": "stream",
     "text": [
      "['xyz', 'abc', 'pqr', 1, 5, 'xyz', 'xyz']\n",
      "['abc', 'pqr', 1, 5, 'xyz', 'xyz']\n",
      "['abc', 'pqr', 1, 5, 'xyz']\n",
      "['xyz', 5, 1, 'pqr', 'abc']\n"
     ]
    }
   ],
   "source": [
    "list1=[\"xyz\",\"abc\",\"pqr\",1,5,\"xyz\",\"xyz\"];\n",
    "print(list1);\n",
    "list1.remove(\"xyz\");\n",
    "print(list1);\n",
    "list1.remove(\"xyz\");\n",
    "print(list1);\n",
    "\n",
    "list1.reverse();\n",
    "print(list1);"
   ]
  }
 ],
 "metadata": {
  "kernelspec": {
   "display_name": "Python 3",
   "language": "python",
   "name": "python3"
  },
  "language_info": {
   "codemirror_mode": {
    "name": "ipython",
    "version": 3
   },
   "file_extension": ".py",
   "mimetype": "text/x-python",
   "name": "python",
   "nbconvert_exporter": "python",
   "pygments_lexer": "ipython3",
   "version": "3.7.3"
  }
 },
 "nbformat": 4,
 "nbformat_minor": 2
}
