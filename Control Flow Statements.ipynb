{
 "cells": [
  {
   "cell_type": "markdown",
   "metadata": {},
   "source": [
    "# Control Flow Statements"
   ]
  },
  {
   "cell_type": "markdown",
   "metadata": {},
   "source": [
    "## Conditional Statements"
   ]
  },
  {
   "cell_type": "code",
   "execution_count": 4,
   "metadata": {},
   "outputs": [
    {
     "name": "stdout",
     "output_type": "stream",
     "text": [
      "the no is less than 15\n"
     ]
    }
   ],
   "source": [
    "x=10\n",
    "if(x<15):\n",
    "    print(\"the no is less than 15\")"
   ]
  },
  {
   "cell_type": "code",
   "execution_count": 5,
   "metadata": {},
   "outputs": [],
   "source": [
    "x=10\n",
    "if(x>15):\n",
    "        print(\"hi\")"
   ]
  },
  {
   "cell_type": "code",
   "execution_count": 9,
   "metadata": {},
   "outputs": [
    {
     "name": "stdout",
     "output_type": "stream",
     "text": [
      "ga\n"
     ]
    }
   ],
   "source": [
    "x=10\n",
    "if(x>15):\n",
    "    print(\"gm\");\n",
    "else:\n",
    "  print(\"ga\");"
   ]
  },
  {
   "cell_type": "code",
   "execution_count": 1,
   "metadata": {},
   "outputs": [
    {
     "name": "stdout",
     "output_type": "stream",
     "text": [
      "y  is greater\n"
     ]
    }
   ],
   "source": [
    "x=10\n",
    "y=20\n",
    "if(x>y):\n",
    "    print(\"x is greater\");\n",
    "else:\n",
    "    print(\"y  is greater\");"
   ]
  },
  {
   "cell_type": "code",
   "execution_count": 3,
   "metadata": {},
   "outputs": [
    {
     "name": "stdout",
     "output_type": "stream",
     "text": [
      "25\n"
     ]
    }
   ],
   "source": [
    "x=5\n",
    "y=5\n",
    "if(x==y):\n",
    "    print(x*x);\n",
    "else:\n",
    "    print(x*y)\n"
   ]
  },
  {
   "cell_type": "markdown",
   "metadata": {},
   "source": [
    "### Description: To check if the given no is 0, -ve or ve"
   ]
  },
  {
   "cell_type": "code",
   "execution_count": 6,
   "metadata": {},
   "outputs": [
    {
     "name": "stdout",
     "output_type": "stream",
     "text": [
      "positive\n"
     ]
    }
   ],
   "source": [
    "#x=45\n",
    "if(x<0):\n",
    "    print(\"negative\");\n",
    "elif(x>0):\n",
    "    print(\"positive\");\n",
    "else:\n",
    "    print(\"zero\");"
   ]
  },
  {
   "cell_type": "markdown",
   "metadata": {},
   "source": [
    "# Loop Statements"
   ]
  },
  {
   "cell_type": "markdown",
   "metadata": {},
   "source": [
    "## Question  1\n",
    "### Description: To display nos 1 10 using while."
   ]
  },
  {
   "cell_type": "code",
   "execution_count": 7,
   "metadata": {},
   "outputs": [
    {
     "name": "stdout",
     "output_type": "stream",
     "text": [
      "1\n",
      "2\n",
      "3\n",
      "4\n",
      "5\n",
      "6\n",
      "7\n",
      "8\n",
      "9\n",
      "10\n"
     ]
    }
   ],
   "source": [
    "n=1\n",
    "while(n<=10):\n",
    "    print(n);\n",
    "    n=n+1"
   ]
  },
  {
   "cell_type": "markdown",
   "metadata": {},
   "source": [
    "## Question 2\n",
    "### Description: To print nos from 10 to 1"
   ]
  },
  {
   "cell_type": "code",
   "execution_count": 9,
   "metadata": {},
   "outputs": [
    {
     "name": "stdout",
     "output_type": "stream",
     "text": [
      "10\n",
      "9\n",
      "8\n",
      "7\n",
      "6\n",
      "5\n",
      "4\n",
      "3\n",
      "2\n",
      "1\n"
     ]
    }
   ],
   "source": [
    "n=10\n",
    "while(n>=1):\n",
    "    print(n);\n",
    "    n=n-1;"
   ]
  },
  {
   "cell_type": "markdown",
   "metadata": {},
   "source": [
    "## Question 3\n",
    "### Description: To print nos from -22 to -45"
   ]
  },
  {
   "cell_type": "code",
   "execution_count": 2,
   "metadata": {},
   "outputs": [
    {
     "name": "stdout",
     "output_type": "stream",
     "text": [
      "-22\n",
      "-23\n",
      "-24\n",
      "-25\n",
      "-26\n",
      "-27\n",
      "-28\n",
      "-29\n",
      "-30\n",
      "-31\n",
      "-32\n",
      "-33\n",
      "-34\n",
      "-35\n",
      "-36\n",
      "-37\n",
      "-38\n",
      "-39\n",
      "-40\n",
      "-41\n",
      "-42\n",
      "-43\n",
      "-44\n",
      "-45\n"
     ]
    }
   ],
   "source": [
    "n=-22\n",
    "while(n>=-45):\n",
    "    print(n);\n",
    "    n=n-1;"
   ]
  },
  {
   "cell_type": "markdown",
   "metadata": {},
   "source": [
    "## Question 4\n",
    "### Description: To print the sum of even nos between 1 to 100"
   ]
  },
  {
   "cell_type": "code",
   "execution_count": 4,
   "metadata": {},
   "outputs": [
    {
     "name": "stdout",
     "output_type": "stream",
     "text": [
      "lower limit3\n",
      "upper limit75\n",
      "1404\n"
     ]
    }
   ],
   "source": [
    "x=int(input(\"lower limit\"));\n",
    "y=int(input(\"upper limit\"));\n",
    "sum=0;\n",
    "while(x!=y):\n",
    "    if(x%2==0):\n",
    "        sum=sum+x;\n",
    "    x=x+1;\n",
    "print(sum);"
   ]
  },
  {
   "cell_type": "markdown",
   "metadata": {},
   "source": [
    "## Question 5\n",
    "### Description: To display the digits of number."
   ]
  },
  {
   "cell_type": "code",
   "execution_count": 7,
   "metadata": {},
   "outputs": [
    {
     "name": "stdout",
     "output_type": "stream",
     "text": [
      "enter a number: 2334653\n",
      "3\n",
      "5\n",
      "6\n",
      "4\n",
      "3\n",
      "3\n",
      "2\n"
     ]
    }
   ],
   "source": [
    "n=int(input(\"enter a number: \"));\n",
    "while(n!=0):\n",
    "    r=n%10;\n",
    "    print(r);\n",
    "    n=n//10;\n",
    "    "
   ]
  },
  {
   "cell_type": "markdown",
   "metadata": {},
   "source": [
    "## Question 6\n",
    "### Description : To display the sum of even digits in an no."
   ]
  },
  {
   "cell_type": "code",
   "execution_count": 8,
   "metadata": {},
   "outputs": [
    {
     "name": "stdout",
     "output_type": "stream",
     "text": [
      "enter a no: 456780\n",
      "18\n"
     ]
    }
   ],
   "source": [
    "n=int(input(\"enter a no: \"));\n",
    "sum=0;\n",
    "r=0;\n",
    "while(n!=0):\n",
    "    r=n%10;\n",
    "    if(r%2==0):\n",
    "        sum=sum+r;\n",
    "    n=n//10;\n",
    "print(sum);"
   ]
  },
  {
   "cell_type": "markdown",
   "metadata": {},
   "source": [
    "## Question 7\n",
    "### Description: To display the names of the digits of the no in reverse order."
   ]
  },
  {
   "cell_type": "code",
   "execution_count": 18,
   "metadata": {},
   "outputs": [
    {
     "name": "stdout",
     "output_type": "stream",
     "text": [
      "enter a number: 345\n",
      "five\n",
      "four\n",
      "three\n"
     ]
    }
   ],
   "source": [
    "n=int(input(\"enter a number: \"));\n",
    "while(n!=0):\n",
    "        r=n%10;\n",
    "        if(r==0):\n",
    "            print(\"zero\");\n",
    "        elif(r==1):\n",
    "             print(\"one\");\n",
    "        elif(r==2):\n",
    "            print(\"two\");\n",
    "        elif(r==3):\n",
    "            print(\"three\");\n",
    "        elif(r==4):\n",
    "            print(\"four\");\n",
    "        elif(r==5):\n",
    "             print(\"five\");\n",
    "        elif(r==6):\n",
    "            print(\"six\");\n",
    "        elif(r==7):\n",
    "             print(\"seven\");\n",
    "        elif(r==8):\n",
    "            print(\"eight\");\n",
    "        elif(r==9):\n",
    "             print(\"nine\");\n",
    "        n=n//10;"
   ]
  },
  {
   "cell_type": "code",
   "execution_count": 3,
   "metadata": {},
   "outputs": [
    {
     "name": "stdout",
     "output_type": "stream",
     "text": [
      "enter no: 4\n",
      "enter lower limit: 45\n",
      "upper limit: 50\n",
      "5\n"
     ]
    }
   ],
   "source": [
    "digit=int(input(\"enter no: \"));\n",
    "l1=int(input(\"enter lower limit: \"));\n",
    "l2=int(input(\"upper limit: \"))\n",
    "\n",
    "cnt=0;\n",
    "\n",
    "while(l1!=l2):\n",
    "    buffer=l1;\n",
    "    while(l1!=0):\n",
    "        r=l1%10;\n",
    "        if(r==digit):\n",
    "            cnt=cnt+1;\n",
    "        l1=l1//10;\n",
    "    l1=buffer;\n",
    "    l1=l1+1;\n",
    "    \n",
    "print(cnt);"
   ]
  },
  {
   "cell_type": "code",
   "execution_count": null,
   "metadata": {},
   "outputs": [],
   "source": []
  }
 ],
 "metadata": {
  "kernelspec": {
   "display_name": "Python 3",
   "language": "python",
   "name": "python3"
  },
  "language_info": {
   "codemirror_mode": {
    "name": "ipython",
    "version": 3
   },
   "file_extension": ".py",
   "mimetype": "text/x-python",
   "name": "python",
   "nbconvert_exporter": "python",
   "pygments_lexer": "ipython3",
   "version": "3.7.3"
  }
 },
 "nbformat": 4,
 "nbformat_minor": 2
}
