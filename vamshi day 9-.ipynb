{
 "cells": [
  {
   "cell_type": "code",
   "execution_count": 1,
   "metadata": {},
   "outputs": [
    {
     "name": "stdout",
     "output_type": "stream",
     "text": [
      "True\n",
      "True\n"
     ]
    }
   ],
   "source": [
    "s='python is easy programming to learn and intresting'\n",
    "s1=\"python\"\n",
    "print(s.islower())\n",
    "print(s1.islower())"
   ]
  },
  {
   "cell_type": "code",
   "execution_count": 8,
   "metadata": {},
   "outputs": [
    {
     "name": "stdout",
     "output_type": "stream",
     "text": [
      "False\n",
      "False\n"
     ]
    }
   ],
   "source": [
    "s='putta'\n",
    "s1=\"VAMSHI\"\n",
    "print(s.isupper())\n",
    "print(s1.islower())"
   ]
  },
  {
   "cell_type": "code",
   "execution_count": 12,
   "metadata": {},
   "outputs": [
    {
     "name": "stdout",
     "output_type": "stream",
     "text": [
      "False\n",
      "True\n"
     ]
    }
   ],
   "source": [
    "s=\"putta\"\n",
    "s1=\" \"\n",
    "print(s.isspace())\n",
    "print(s1.isspace())"
   ]
  },
  {
   "cell_type": "code",
   "execution_count": 15,
   "metadata": {},
   "outputs": [
    {
     "name": "stdout",
     "output_type": "stream",
     "text": [
      "True\n"
     ]
    }
   ],
   "source": [
    "s=\"0123456789\"\n",
    "print(s.isnumeric())"
   ]
  },
  {
   "cell_type": "code",
   "execution_count": 16,
   "metadata": {},
   "outputs": [
    {
     "name": "stdout",
     "output_type": "stream",
     "text": [
      "False\n"
     ]
    }
   ],
   "source": [
    "s=\"12345abcde\"\n",
    "print(s.isnumeric())"
   ]
  },
  {
   "cell_type": "code",
   "execution_count": 17,
   "metadata": {},
   "outputs": [
    {
     "name": "stdout",
     "output_type": "stream",
     "text": [
      "['python,', 'programming,', 'is,', 'easy,', 'to,', 'learn']\n",
      "\n"
     ]
    }
   ],
   "source": [
    "s=\"python, programming, is, easy, to, learn\"\n",
    "print(s.split())\n",
    "print()"
   ]
  },
  {
   "cell_type": "code",
   "execution_count": 1,
   "metadata": {},
   "outputs": [
    {
     "name": "stdout",
     "output_type": "stream",
     "text": [
      "p y t h o n\n"
     ]
    }
   ],
   "source": [
    "str = \"python\"\n",
    "print(\" \".join(str))"
   ]
  },
  {
   "cell_type": "code",
   "execution_count": 2,
   "metadata": {},
   "outputs": [
    {
     "name": "stdout",
     "output_type": "stream",
     "text": [
      ",\n"
     ]
    }
   ],
   "source": [
    "lst = [\"\",\"\"]\n",
    "print(\",\".join(lst))"
   ]
  },
  {
   "cell_type": "code",
   "execution_count": 3,
   "metadata": {},
   "outputs": [
    {
     "name": "stdout",
     "output_type": "stream",
     "text": [
      "['Python', 'Programming', 'is', 'easy', 'to', 'learn']\n",
      "2\n"
     ]
    }
   ],
   "source": [
    "s = \"Python Programming is easy to learn\"\n",
    "lst = s.split()\n",
    "print(lst)\n",
    "print(lst.index(\"is\"))"
   ]
  },
  {
   "cell_type": "code",
   "execution_count": 6,
   "metadata": {},
   "outputs": [
    {
     "name": "stdout",
     "output_type": "stream",
     "text": [
      "python application\n"
     ]
    }
   ],
   "source": [
    "s = \"python program\";\n",
    "print(s.replace(\"program\",\"application\"))"
   ]
  },
  {
   "cell_type": "code",
   "execution_count": 7,
   "metadata": {},
   "outputs": [
    {
     "name": "stdout",
     "output_type": "stream",
     "text": [
      "python applicationgramming\n"
     ]
    }
   ],
   "source": [
    "s = \"python programming\"\n",
    "print(s.replace(\"pro\",\"application\"))"
   ]
  },
  {
   "cell_type": "code",
   "execution_count": 9,
   "metadata": {},
   "outputs": [
    {
     "name": "stdout",
     "output_type": "stream",
     "text": [
      "t1[0] =  python\n",
      "t1[2] =  1989\n",
      "t1[-1] =  A1\n",
      "t1[1:4] =  ('programming', 1989, 2019)\n",
      "t1[2:-2] =  (1989, 2019)\n"
     ]
    }
   ],
   "source": [
    "t1 = (\"python\",\"programming\",1989,2019,\"machine learning\",\"A1\")\n",
    "print(\"t1[0] = \",t1[0])\n",
    "print(\"t1[2] = \",t1[2])\n",
    "print(\"t1[-1] = \",t1[-1])\n",
    "print(\"t1[1:4] = \",t1[1:4])\n",
    "print(\"t1[2:-2] = \",t1[2:-2])"
   ]
  },
  {
   "cell_type": "code",
   "execution_count": 1,
   "metadata": {},
   "outputs": [
    {
     "name": "stdout",
     "output_type": "stream",
     "text": [
      "t1[0]= python\n",
      "t1[2]= 1989\n",
      "t1[-1]= AI\n"
     ]
    }
   ],
   "source": [
    "t1 = (\"python\",\"programing\",1989,2019,\"Machine learning\",\"AI\")\n",
    "print(\"t1[0]=\",t1[0])\n",
    "print(\"t1[2]=\",t1[2])\n",
    "print(\"t1[-1]=\",t1[-1])"
   ]
  },
  {
   "cell_type": "code",
   "execution_count": 2,
   "metadata": {},
   "outputs": [
    {
     "name": "stdout",
     "output_type": "stream",
     "text": [
      "{'Name': 'Anil', 'Age': 29, 'MobileNumber': '6303556770'}\n"
     ]
    }
   ],
   "source": [
    "user1 = {'Name':'Anil','Age':29,'EmailID':'anil@gmail.com','MobileNumber':'6303556770'}\n",
    "del user1['EmailID']\n",
    "print (user1)"
   ]
  },
  {
   "cell_type": "code",
   "execution_count": 3,
   "metadata": {},
   "outputs": [
    {
     "name": "stdout",
     "output_type": "stream",
     "text": [
      "{'Name': 'Anil', 'Age': 29, 'EmailID': 'anil@gmail.com', 'MobileNumber': '6303556770'}\n"
     ]
    }
   ],
   "source": [
    "user1 = {'Name':'Anil','Age':29,'EmailID':'anil@gmail.com','MobileNumber':'6303556770'}\n",
    "print (user1)"
   ]
  },
  {
   "cell_type": "code",
   "execution_count": null,
   "metadata": {},
   "outputs": [],
   "source": []
  }
 ],
 "metadata": {
  "kernelspec": {
   "display_name": "Python 3",
   "language": "python",
   "name": "python3"
  },
  "language_info": {
   "codemirror_mode": {
    "name": "ipython",
    "version": 3
   },
   "file_extension": ".py",
   "mimetype": "text/x-python",
   "name": "python",
   "nbconvert_exporter": "python",
   "pygments_lexer": "ipython3",
   "version": "3.7.0"
  }
 },
 "nbformat": 4,
 "nbformat_minor": 2
}
